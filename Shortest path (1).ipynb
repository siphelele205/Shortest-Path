{
 "cells": [
  {
   "cell_type": "code",
   "execution_count": 4,
   "id": "170fd416-f35c-4758-9b4c-0ef097d0d94b",
   "metadata": {},
   "outputs": [
    {
     "name": "stdout",
     "output_type": "stream",
     "text": [
      "Shortest path from DBN to JHB: ['DBN', 'RBY', 'HMT', 'JHB']\n"
     ]
    }
   ],
   "source": [
    "# S Maziya - 22110612\n",
    "# SN Nkambule - 22111120\n",
    "# SG Makhaye - 22115877\n",
    "\n",
    "import networkx as nx\n",
    "\n",
    "G = nx.Graph()\n",
    "G.add_edge('DBN', 'PMB', weight=89)\n",
    "G.add_edge('DBN', 'RBY', weight=112)\n",
    "G.add_edge('RBY', 'PMB', weight=70)\n",
    "G.add_edge('PMB', 'HMT', weight=209)\n",
    "G.add_edge('RBY', 'VRT', weight=106)\n",
    "G.add_edge('RBY', 'HMT', weight=100)\n",
    "G.add_edge('HMT', 'VRT', weight=41)\n",
    "G.add_edge('HMT', 'JHB', weight=89)\n",
    "G.add_edge('VRT', 'JHB', weight=106)\n",
    "\n",
    "# Find the shortest path\n",
    "shortest_path = nx.shortest_path(G, 'DBN', 'JHB', weight='weight')\n",
    "\n",
    "# Print the shortest path\n",
    "print(\"Shortest path from DBN to JHB:\", shortest_path)\n"
   ]
  },
  {
   "cell_type": "code",
   "execution_count": null,
   "id": "1f6741d7-d274-4ebc-8d37-2628d861777a",
   "metadata": {},
   "outputs": [],
   "source": []
  },
  {
   "cell_type": "code",
   "execution_count": null,
   "id": "48fbfcc9-bf12-4183-9247-1c6556d7e5be",
   "metadata": {},
   "outputs": [],
   "source": []
  }
 ],
 "metadata": {
  "kernelspec": {
   "display_name": "Python 3 (ipykernel)",
   "language": "python",
   "name": "python3"
  },
  "language_info": {
   "codemirror_mode": {
    "name": "ipython",
    "version": 3
   },
   "file_extension": ".py",
   "mimetype": "text/x-python",
   "name": "python",
   "nbconvert_exporter": "python",
   "pygments_lexer": "ipython3",
   "version": "3.12.3"
  }
 },
 "nbformat": 4,
 "nbformat_minor": 5
}
